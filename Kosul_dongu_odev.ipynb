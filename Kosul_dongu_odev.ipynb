{
 "cells": [
  {
   "cell_type": "markdown",
   "id": "409f0f4a",
   "metadata": {},
   "source": [
    "**Ödev-1:** Kullanıcıdan maaş bilgisini istenir ve bu bilgiye göre maaşından ne kadar vergi kesileceğini hesaplanır. Kullanıcının geliri;\n",
    "\n",
    "1. 10000 ve altındaysa maaşından %5 kesinti olur.\n",
    "2. 25000 ve altındaysa maaşından %10 kesinti olur.\n",
    "3. 45000 ve altındaysa maaşından %25 kesinti olur.\n",
    "4. Diğer koşullarda %30 kesinti olur.\n",
    "\n",
    "Bu durumlara göre kullanıcının yeni maaşı yazdırılır."
   ]
  },
  {
   "cell_type": "code",
   "execution_count": 2,
   "id": "5246e510",
   "metadata": {},
   "outputs": [
    {
     "name": "stdin",
     "output_type": "stream",
     "text": [
      "Lütfen maaşınızı giriniz:  1000\n"
     ]
    },
    {
     "name": "stdout",
     "output_type": "stream",
     "text": [
      "Geliriniz: 1000.00 TL\n",
      "Vergi oranı: %5\n",
      "Vergi miktarı: 50.00 TL\n",
      "Yeni maaşınız: 950.00 TL\n"
     ]
    }
   ],
   "source": [
    "# Kullanıcıdan maaş bilgisini al\n",
    "try:\n",
    "    gelir = float(input(\"Lütfen maaşınızı giriniz: \"))\n",
    "\n",
    "    # Gelir seviyesine göre vergi oranını hesapla\n",
    "    if gelir <= 10000:\n",
    "        vergi_orani = 0.05\n",
    "    elif gelir <= 25000:\n",
    "        vergi_orani = 0.10\n",
    "    elif gelir <= 45000:\n",
    "        vergi_orani = 0.25\n",
    "    else:\n",
    "        vergi_orani = 0.30\n",
    "\n",
    "    # Vergi kesintisini ve yeni maaşı hesapla\n",
    "    vergi_miktari = gelir * vergi_orani\n",
    "    yeni_maas = gelir - vergi_miktari\n",
    "\n",
    "    # Sonuçları yazdır\n",
    "    print(f\"Geliriniz: {gelir:.2f} TL\")\n",
    "    print(f\"Vergi oranı: %{vergi_orani * 100:.0f}\")\n",
    "    print(f\"Vergi miktarı: {vergi_miktari:.2f} TL\")\n",
    "    print(f\"Yeni maaşınız: {yeni_maas:.2f} TL\")\n",
    "\n",
    "except ValueError:\n",
    "    print(\"Lütfen geçerli bir sayı giriniz!\")"
   ]
  },
  {
   "cell_type": "markdown",
   "id": "f5fe8798",
   "metadata": {},
   "source": [
    "**Ödev-2:** Kullanıcıdan kullanıcı adı ve şifre oluşturmasını istenir. Şifrenin uzunluğu altı haneye ulaşmışsa hesabınız oluşturuldu mesajı alınır, altı haneden azsa altı haneli şifre oluşturması gerektiğinin mesajı alınır. *(Sadece koşul kullanılması yeterli.)*"
   ]
  },
  {
   "cell_type": "code",
   "execution_count": 4,
   "id": "a7222b7e-e748-4277-9e87-2c411b40d5a7",
   "metadata": {},
   "outputs": [
    {
     "name": "stdin",
     "output_type": "stream",
     "text": [
      "Kullanıcı adınızı giriniz:  nisa\n",
      "Şifrenizi oluşturunuz:  ········\n"
     ]
    },
    {
     "name": "stdout",
     "output_type": "stream",
     "text": [
      "Hesabınız oluşturuldu.\n"
     ]
    }
   ],
   "source": [
    "\n",
    "while True:\n",
    "    kullanici_adi = \"\"  \n",
    "    sifre = \"\" \n",
    "\n",
    "    kullanici_adi = input(\"Kullanıcı adınızı giriniz: \")\n",
    "    sifre = getpass.getpass(\"Şifrenizi oluşturunuz: \")\n",
    "\n",
    "    # Şifrenin uzunluğunu kontrol et\n",
    "    if len(sifre) >= 6:\n",
    "        print(\"Hesabınız oluşturuldu.\")\n",
    "        break\n",
    "    else:\n",
    "        print(\"Lütfen altı haneli bir şifre oluşturunuz.\")\n",
    "\n"
   ]
  },
  {
   "cell_type": "markdown",
   "id": "aaccf11a",
   "metadata": {},
   "source": [
    "**Ödev-3:** Bir önceki örnek geliştirilir.\n",
    "\n",
    "1. Kullanıcı girdiği şifre 5 ve 10 hane arasında olmak zorunda.\n",
    "2. Eğer bu koşula uyuyorsa \"Hesabınız oluşturuldu.\" mesajı alır.\n",
    "3. Koşulu sağlamıyorsa \"Lütfen girdiniz şifre 5 haneden az 10 haneden fazla olmasın!\" uyarısı alır.\n",
    "4. Bunu oluştururken kullanıcı istediğimiz şartlarda şifre oluşturana kadar sormaya devam eder"
   ]
  },
  {
   "cell_type": "code",
   "execution_count": 3,
   "id": "039e50dc",
   "metadata": {},
   "outputs": [
    {
     "name": "stdin",
     "output_type": "stream",
     "text": [
      "Kullanıcı adınızı giriniz:  nisa\n",
      "Şifrenizi oluşturunuz:  123\n"
     ]
    },
    {
     "name": "stdout",
     "output_type": "stream",
     "text": [
      "Lütfen girdiniz şifre 5 haneden az 10 haneden fazla olmasın!\n"
     ]
    },
    {
     "name": "stdin",
     "output_type": "stream",
     "text": [
      "Kullanıcı adınızı giriniz:  nsia\n",
      "Şifrenizi oluşturunuz:  1234567\n"
     ]
    },
    {
     "name": "stdout",
     "output_type": "stream",
     "text": [
      "Hesabınız oluşturuldu.\n"
     ]
    }
   ],
   "source": [
    "while True:\n",
    "    kullanici_adi = \"\"  \n",
    "    sifre = \"\" \n",
    "\n",
    "    kullanici_adi = input(\"Kullanıcı adınızı giriniz: \")\n",
    "    sifre = input(\"Şifrenizi oluşturunuz: \")\n",
    "\n",
    "    # Şifrenin uzunluğunu kontrol et\n",
    "    if len(sifre) > 5 and len(sifre) <= 10:\n",
    "        print(\"Hesabınız oluşturuldu.\")\n",
    "        break\n",
    "    else:\n",
    "        print(\"Lütfen girdiniz şifre 5 haneden az 10 haneden fazla olmasın!\")\n",
    "\n"
   ]
  },
  {
   "cell_type": "markdown",
   "id": "8ba81863",
   "metadata": {},
   "source": [
    "**Ödev-4:** Kullanıcıdan isim ve şifre isteyeceğiz ve şifre girişi için üç hak verilir.\n",
    "\n",
    "1. Eğer önceden tanımlı şifre ile kullanıcıdan gelen şifre aynıysa \"Giriş yapıldı.\" yazar.\n",
    "2. Şifre girişi yanlışsa \"Yanlış şifre girildi!\" uyarısı verilsin ve üç yanlış denemede program biter.\n",
    "3. Tercihe göre kalan hak bilgisi verilir."
   ]
  },
  {
   "cell_type": "code",
   "execution_count": 7,
   "id": "8f45ea0c",
   "metadata": {},
   "outputs": [
    {
     "name": "stdin",
     "output_type": "stream",
     "text": [
      "Lütfen isminizi giriniz:  nisa\n",
      "Lütfen şifrenizi giriniz:  123\n"
     ]
    },
    {
     "name": "stdout",
     "output_type": "stream",
     "text": [
      "Yanlış şifre girildi! Kalan hakkınız: 2\n"
     ]
    },
    {
     "name": "stdin",
     "output_type": "stream",
     "text": [
      "Lütfen şifrenizi giriniz:  12\n"
     ]
    },
    {
     "name": "stdout",
     "output_type": "stream",
     "text": [
      "Yanlış şifre girildi! Kalan hakkınız: 1\n"
     ]
    },
    {
     "name": "stdin",
     "output_type": "stream",
     "text": [
      "Lütfen şifrenizi giriniz:  2\n"
     ]
    },
    {
     "name": "stdout",
     "output_type": "stream",
     "text": [
      "Üç defa yanlış şifre girdiniz. Program sonlanıyor.\n"
     ]
    }
   ],
   "source": [
    "# Önceden tanımlı şifre\n",
    "tanimli_sifre = \"123456\"\n",
    "\n",
    "# Kullanıcıdan isim ve şifre isteme\n",
    "isim = input(\"Lütfen isminizi giriniz: \")\n",
    "\n",
    "# Şifre deneme hakkı\n",
    "hak = 3\n",
    "\n",
    "while hak > 0:\n",
    "    sifre = input(\"Lütfen şifrenizi giriniz: \")\n",
    "    \n",
    "    if sifre == tanimli_sifre:\n",
    "        print(\"Giriş yapıldı.\")\n",
    "        break\n",
    "    else:\n",
    "        hak -= 1\n",
    "        if hak > 0:\n",
    "            print(f\"Yanlış şifre girildi! Kalan hakkınız: {hak}\")\n",
    "        else:\n",
    "            print(\"Üç defa yanlış şifre girdiniz. Program sonlanıyor.\")\n"
   ]
  },
  {
   "cell_type": "code",
   "execution_count": null,
   "id": "0860d26d-a15d-4245-8369-2dd05f5321e6",
   "metadata": {},
   "outputs": [],
   "source": []
  }
 ],
 "metadata": {
  "kernelspec": {
   "display_name": "Python [conda env:base] *",
   "language": "python",
   "name": "conda-base-py"
  },
  "language_info": {
   "codemirror_mode": {
    "name": "ipython",
    "version": 3
   },
   "file_extension": ".py",
   "mimetype": "text/x-python",
   "name": "python",
   "nbconvert_exporter": "python",
   "pygments_lexer": "ipython3",
   "version": "3.12.7"
  }
 },
 "nbformat": 4,
 "nbformat_minor": 5
}
